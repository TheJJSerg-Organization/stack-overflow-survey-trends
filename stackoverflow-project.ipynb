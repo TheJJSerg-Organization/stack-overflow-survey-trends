{
 "cells": [
  {
   "cell_type": "markdown",
   "id": "295d62e1",
   "metadata": {},
   "source": [
    "# Stack Overflow Survey Trends\n",
    "\n",
    "**Understanding developer trends in Stack Overflow survey data**\n",
    "\n",
    "This is an Off-Platform Project provided by Codecademy's Data Science: Analyst career track in the *Handling Missing Data* course, inside of the *Data Wrangling, Cleaning, and Tidying* Unit.\n",
    "\n",
    "## Project Overview\n",
    "\n",
    "You work for a staffing agency that specializes in finding qualified candidates for development roles. One of your latest clients is growing rapidly and wants to understand what kinds of developers they can hire, and to understand general trends of the technology market. Your organization has access to this [Stack Overflow dataset](https://static-assets.codecademy.com/Courses/handling-missing-data/stackoverflow-project/developer_dataset.csv.zip?_gl=1*lbwq7o*_ga*NDE0MTMwODY3OC4xNjkxNjI5Mzc4*_ga_3LRZM6TM9L*MTcwODM4ODY5My4yMTYuMS4xNzA4Mzg5MjM1LjUzLjAuMA..), which consists of survey responses by developers all over the world for the last few years.\n",
    "\n",
    "Your project is to put together several statistical analyses about the community to educate your client about the potential hiring market for their company.\n",
    "\n",
    "## Project Steps\n",
    "\n",
    "### Explore Data\n",
    "\n",
    "You decide to start by performing some **Exploratory Data Analysis (EDA)**. This will provide you with a high-level understanding of the data fields, as well as help you identify which columns have missing data. In this case, you load the dataset into a `pandas` DataFrame and call it `df`. Take a moment to explore which columns you have in the data."
   ]
  },
  {
   "cell_type": "code",
   "execution_count": 1,
   "id": "7ba84c62",
   "metadata": {},
   "outputs": [
    {
     "name": "stdout",
     "output_type": "stream",
     "text": [
      "Index(['RespondentID', 'Year', 'Country', 'Employment', 'UndergradMajor',\n",
      "       'DevType', 'LanguageWorkedWith', 'LanguageDesireNextYear',\n",
      "       'DatabaseWorkedWith', 'DatabaseDesireNextYear', 'PlatformWorkedWith',\n",
      "       'PlatformDesireNextYear', 'Hobbyist', 'OrgSize', 'YearsCodePro',\n",
      "       'JobSeek', 'ConvertedComp', 'WorkWeekHrs', 'NEWJobHunt',\n",
      "       'NEWJobHuntResearch', 'NEWLearn'],\n",
      "      dtype='object')\n"
     ]
    },
    {
     "name": "stderr",
     "output_type": "stream",
     "text": [
      "/var/folders/dz/csjpb9qj4dqf_c5tnq_cjz8c0000gn/T/ipykernel_69315/787547253.py:4: DtypeWarning: Columns (18,19,20) have mixed types. Specify dtype option on import or set low_memory=False.\n",
      "  df = pd.read_csv('developer_dataset.csv')\n"
     ]
    }
   ],
   "source": [
    "# Import the pandas library to read csv files\n",
    "import pandas as pd\n",
    "\n",
    "df = pd.read_csv('developer_dataset.csv')\n",
    "print(df.columns)"
   ]
  },
  {
   "cell_type": "markdown",
   "id": "a455b293",
   "metadata": {},
   "source": [
    "We notice that the `RespondentID`, `Year`, and `Country` can be used to identify a person in our data.\n",
    "\n",
    "Their experiences can be found via `LanguageWorkedWith`, `DatabaseWorkedWith`, `UndergradMajor`.\n",
    "\n",
    "Information about what they might want to do in the future are contained in `LanguagedDesireNextYear`, `DatabaseDesireNextYear`, \n",
    "\n",
    "We will now inspect the NaN values of the dataset. Note that the survey questions were optional, so we can expect that we will have significant NaN values throughout the dataset. We will use `df.count()` to see where we are seeing NaN values."
   ]
  },
  {
   "cell_type": "code",
   "execution_count": 2,
   "id": "e3fa06fb",
   "metadata": {},
   "outputs": [
    {
     "data": {
      "text/plain": [
       "RespondentID              111209\n",
       "Year                      111209\n",
       "Country                   111209\n",
       "Employment                109425\n",
       "UndergradMajor             98453\n",
       "DevType                   100433\n",
       "LanguageWorkedWith        102018\n",
       "LanguageDesireNextYear     96044\n",
       "DatabaseWorkedWith         85859\n",
       "DatabaseDesireNextYear     74234\n",
       "PlatformWorkedWith         91609\n",
       "PlatformDesireNextYear     85376\n",
       "Hobbyist                   68352\n",
       "OrgSize                    54804\n",
       "YearsCodePro               94793\n",
       "JobSeek                    60556\n",
       "ConvertedComp              91333\n",
       "WorkWeekHrs                51089\n",
       "NEWJobHunt                 19127\n",
       "NEWJobHuntResearch         18683\n",
       "NEWLearn                   24226\n",
       "dtype: int64"
      ]
     },
     "execution_count": 2,
     "metadata": {},
     "output_type": "execute_result"
    }
   ],
   "source": [
    "# Show the total counts for each of the columns\n",
    "df.count()"
   ]
  }
 ],
 "metadata": {
  "kernelspec": {
   "display_name": "Python 3 (ipykernel)",
   "language": "python",
   "name": "python3"
  },
  "language_info": {
   "codemirror_mode": {
    "name": "ipython",
    "version": 3
   },
   "file_extension": ".py",
   "mimetype": "text/x-python",
   "name": "python",
   "nbconvert_exporter": "python",
   "pygments_lexer": "ipython3",
   "version": "3.11.5"
  }
 },
 "nbformat": 4,
 "nbformat_minor": 5
}
