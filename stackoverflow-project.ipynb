{
 "cells": [
  {
   "cell_type": "markdown",
   "id": "295d62e1",
   "metadata": {},
   "source": [
    "# Stack Overflow Survey Trends\n",
    "\n",
    "**Understanding developer trends in Stack Overflow survey data**\n",
    "\n",
    "This is an Off-Platform Project provided by Codecademy's Data Science: Analyst career track in the *Handling Missing Data* course, inside of the *Data Wrangling, Cleaning, and Tidying* Unit.\n",
    "\n",
    "## Project Overview\n",
    "\n",
    "You work for a staffing agency that specializes in finding qualified candidates for development roles. One of your latest clients is growing rapidly and wants to understand what kinds of developers they can hire, and to understand general trends of the technology market. Your organization has access to this [Stack Overflow dataset](https://static-assets.codecademy.com/Courses/handling-missing-data/stackoverflow-project/developer_dataset.csv.zip?_gl=1*lbwq7o*_ga*NDE0MTMwODY3OC4xNjkxNjI5Mzc4*_ga_3LRZM6TM9L*MTcwODM4ODY5My4yMTYuMS4xNzA4Mzg5MjM1LjUzLjAuMA..), which consists of survey responses by developers all over the world for the last few years.\n",
    "\n",
    "Your project is to put together several statistical analyses about the community to educate your client about the potential hiring market for their company.\n",
    "\n",
    "## Project Steps\n",
    "\n",
    "### Explore Data\n",
    "\n",
    "You decide to start by performing some **Exploratory Data Analysis (EDA)**. This will provide you with a high-level understanding of the data fields, as well as help you identify which columns have missing data. In this case, you load the dataset into a `pandas` DataFrame and call it `df`. Take a moment to explore which columns you have in the data."
   ]
  },
  {
   "cell_type": "code",
   "execution_count": 1,
   "id": "7ba84c62",
   "metadata": {},
   "outputs": [
    {
     "name": "stdout",
     "output_type": "stream",
     "text": [
      "Index(['RespondentID', 'Year', 'Country', 'Employment', 'UndergradMajor',\n",
      "       'DevType', 'LanguageWorkedWith', 'LanguageDesireNextYear',\n",
      "       'DatabaseWorkedWith', 'DatabaseDesireNextYear', 'PlatformWorkedWith',\n",
      "       'PlatformDesireNextYear', 'Hobbyist', 'OrgSize', 'YearsCodePro',\n",
      "       'JobSeek', 'ConvertedComp', 'WorkWeekHrs', 'NEWJobHunt',\n",
      "       'NEWJobHuntResearch', 'NEWLearn'],\n",
      "      dtype='object')\n"
     ]
    },
    {
     "name": "stderr",
     "output_type": "stream",
     "text": [
      "/var/folders/dz/csjpb9qj4dqf_c5tnq_cjz8c0000gn/T/ipykernel_70318/787547253.py:4: DtypeWarning: Columns (18,19,20) have mixed types. Specify dtype option on import or set low_memory=False.\n",
      "  df = pd.read_csv('developer_dataset.csv')\n"
     ]
    }
   ],
   "source": [
    "# Import the pandas library to read csv files\n",
    "import pandas as pd\n",
    "\n",
    "df = pd.read_csv('developer_dataset.csv')\n",
    "print(df.columns)"
   ]
  },
  {
   "cell_type": "markdown",
   "id": "300392f0",
   "metadata": {},
   "source": [
    "We notice that the `RespondentID`, `Year`, and `Country` can be used to identify a person in our data.\n",
    "\n",
    "Their experiences can be found via `LanguageWorkedWith`, `DatabaseWorkedWith`, `UndergradMajor`.\n",
    "\n",
    "Information about what they might want to do in the future are contained in `LanguagedDesireNextYear`, `DatabaseDesireNextYear`, \n",
    "\n",
    "We will now inspect the NaN values of the dataset. Note that the survey questions were optional, so we can expect that we will have significant NaN values throughout the dataset. We will use `df.count()` to see where we are seeing NaN values."
   ]
  },
  {
   "cell_type": "code",
   "execution_count": 2,
   "id": "116ec1d4",
   "metadata": {},
   "outputs": [
    {
     "data": {
      "text/plain": [
       "RespondentID              111209\n",
       "Year                      111209\n",
       "Country                   111209\n",
       "Employment                109425\n",
       "UndergradMajor             98453\n",
       "DevType                   100433\n",
       "LanguageWorkedWith        102018\n",
       "LanguageDesireNextYear     96044\n",
       "DatabaseWorkedWith         85859\n",
       "DatabaseDesireNextYear     74234\n",
       "PlatformWorkedWith         91609\n",
       "PlatformDesireNextYear     85376\n",
       "Hobbyist                   68352\n",
       "OrgSize                    54804\n",
       "YearsCodePro               94793\n",
       "JobSeek                    60556\n",
       "ConvertedComp              91333\n",
       "WorkWeekHrs                51089\n",
       "NEWJobHunt                 19127\n",
       "NEWJobHuntResearch         18683\n",
       "NEWLearn                   24226\n",
       "dtype: int64"
      ]
     },
     "execution_count": 2,
     "metadata": {},
     "output_type": "execute_result"
    }
   ],
   "source": [
    "# Show the total counts for each of the columns\n",
    "df.count()"
   ]
  },
  {
   "cell_type": "markdown",
   "id": "1b61413f",
   "metadata": {},
   "source": [
    "We will perform some basic summary statistics on the dataset to understand the \n",
    "- average values\n",
    "- max values\n",
    "- min values\n",
    "- the number of missing data points\n",
    "for our numerical columns. We will use the `.describe()` function."
   ]
  },
  {
   "cell_type": "code",
   "execution_count": 3,
   "id": "d81f0217",
   "metadata": {},
   "outputs": [
    {
     "data": {
      "text/html": [
       "<div>\n",
       "<style scoped>\n",
       "    .dataframe tbody tr th:only-of-type {\n",
       "        vertical-align: middle;\n",
       "    }\n",
       "\n",
       "    .dataframe tbody tr th {\n",
       "        vertical-align: top;\n",
       "    }\n",
       "\n",
       "    .dataframe thead th {\n",
       "        text-align: right;\n",
       "    }\n",
       "</style>\n",
       "<table border=\"1\" class=\"dataframe\">\n",
       "  <thead>\n",
       "    <tr style=\"text-align: right;\">\n",
       "      <th></th>\n",
       "      <th>RespondentID</th>\n",
       "      <th>Year</th>\n",
       "      <th>YearsCodePro</th>\n",
       "      <th>ConvertedComp</th>\n",
       "      <th>WorkWeekHrs</th>\n",
       "    </tr>\n",
       "  </thead>\n",
       "  <tbody>\n",
       "    <tr>\n",
       "      <th>count</th>\n",
       "      <td>111209.0</td>\n",
       "      <td>111209.0</td>\n",
       "      <td>94793.0</td>\n",
       "      <td>91333.0</td>\n",
       "      <td>51089.0</td>\n",
       "    </tr>\n",
       "    <tr>\n",
       "      <th>mean</th>\n",
       "      <td>19262.0</td>\n",
       "      <td>2019.0</td>\n",
       "      <td>10.0</td>\n",
       "      <td>125178.0</td>\n",
       "      <td>41.0</td>\n",
       "    </tr>\n",
       "    <tr>\n",
       "      <th>std</th>\n",
       "      <td>11767.0</td>\n",
       "      <td>1.0</td>\n",
       "      <td>8.0</td>\n",
       "      <td>246122.0</td>\n",
       "      <td>14.0</td>\n",
       "    </tr>\n",
       "    <tr>\n",
       "      <th>min</th>\n",
       "      <td>1.0</td>\n",
       "      <td>2018.0</td>\n",
       "      <td>0.0</td>\n",
       "      <td>0.0</td>\n",
       "      <td>1.0</td>\n",
       "    </tr>\n",
       "    <tr>\n",
       "      <th>25%</th>\n",
       "      <td>9268.0</td>\n",
       "      <td>2018.0</td>\n",
       "      <td>4.0</td>\n",
       "      <td>46000.0</td>\n",
       "      <td>40.0</td>\n",
       "    </tr>\n",
       "    <tr>\n",
       "      <th>50%</th>\n",
       "      <td>18535.0</td>\n",
       "      <td>2019.0</td>\n",
       "      <td>8.0</td>\n",
       "      <td>79000.0</td>\n",
       "      <td>40.0</td>\n",
       "    </tr>\n",
       "    <tr>\n",
       "      <th>75%</th>\n",
       "      <td>28347.0</td>\n",
       "      <td>2019.0</td>\n",
       "      <td>14.0</td>\n",
       "      <td>120000.0</td>\n",
       "      <td>42.0</td>\n",
       "    </tr>\n",
       "    <tr>\n",
       "      <th>max</th>\n",
       "      <td>42857.0</td>\n",
       "      <td>2020.0</td>\n",
       "      <td>50.0</td>\n",
       "      <td>2000000.0</td>\n",
       "      <td>475.0</td>\n",
       "    </tr>\n",
       "  </tbody>\n",
       "</table>\n",
       "</div>"
      ],
      "text/plain": [
       "       RespondentID      Year  YearsCodePro  ConvertedComp  WorkWeekHrs\n",
       "count      111209.0  111209.0       94793.0        91333.0      51089.0\n",
       "mean        19262.0    2019.0          10.0       125178.0         41.0\n",
       "std         11767.0       1.0           8.0       246122.0         14.0\n",
       "min             1.0    2018.0           0.0            0.0          1.0\n",
       "25%          9268.0    2018.0           4.0        46000.0         40.0\n",
       "50%         18535.0    2019.0           8.0        79000.0         40.0\n",
       "75%         28347.0    2019.0          14.0       120000.0         42.0\n",
       "max         42857.0    2020.0          50.0      2000000.0        475.0"
      ]
     },
     "execution_count": 3,
     "metadata": {},
     "output_type": "execute_result"
    }
   ],
   "source": [
    "# Provide the summary statistics\n",
    "df.describe().round()"
   ]
  },
  {
   "cell_type": "markdown",
   "id": "3a6094ec",
   "metadata": {},
   "source": [
    "The summary statistics shown above desribe the center and spread of our quantitative variables. \n",
    "\n",
    "The `YearsCodePro` and `ConvertedComp` have some missing values. `ConvertedComp` also has a seemingly high standard deviation with **246122.0**. We might need to inspect this variable further to see why the spread is high. It could be due to outlier compensation values, especially when the median value is very small compared to the maximum value.\n",
    "\n",
    "It seems that the `WorkWeekHrs` has a significant number of NaN values. In addition, it has a max value of **475.0** hours; which would mean that the person worked about 20 hours a day. This could mean that some of the datapoints are erroneously inputted, and that there may be additional mistakes throughout the dataset."
   ]
  },
  {
   "cell_type": "markdown",
   "id": "7c389c02",
   "metadata": {},
   "source": [
    "### Delete Highly Missing Data\n",
    "\n",
    "We notice that some columns have a very large amount of NaN values. We recall that we can safely remove columns with ~60% or more missing data because it is unlikely to gain any accurate statistical analysis that represents the developers who filled out the survey."
   ]
  },
  {
   "cell_type": "code",
   "execution_count": 4,
   "id": "50ca23c6",
   "metadata": {},
   "outputs": [
    {
     "name": "stdout",
     "output_type": "stream",
     "text": [
      "% Missing Data: \n",
      "RespondentID               0.000000\n",
      "Year                       0.000000\n",
      "Country                    0.000000\n",
      "Employment                 1.604187\n",
      "UndergradMajor            11.470295\n",
      "DevType                    9.689863\n",
      "LanguageWorkedWith         8.264619\n",
      "LanguageDesireNextYear    13.636486\n",
      "DatabaseWorkedWith        22.794918\n",
      "DatabaseDesireNextYear    33.248208\n",
      "PlatformWorkedWith        17.624473\n",
      "PlatformDesireNextYear    23.229235\n",
      "Hobbyist                  38.537349\n",
      "OrgSize                   50.719816\n",
      "YearsCodePro              14.761395\n",
      "JobSeek                   45.547573\n",
      "ConvertedComp             17.872654\n",
      "WorkWeekHrs               54.060373\n",
      "NEWJobHunt                82.800852\n",
      "NEWJobHuntResearch        83.200101\n",
      "NEWLearn                  78.215792\n",
      "dtype: float64\n"
     ]
    }
   ],
   "source": [
    "# Define the max number of rows in a column\n",
    "maxrows = df['RespondentID'].count()\n",
    "remove_column = []\n",
    "print('% Missing Data: ')\n",
    "print((1 - df.count() / maxrows) * 100)"
   ]
  },
  {
   "cell_type": "markdown",
   "id": "e0051e1c",
   "metadata": {},
   "source": [
    "We will assume that it is safe to remove \n",
    "- `NewJobHunt`\n",
    "- `NewJobHuntResearch`\n",
    "- `NewLearn`\n",
    "\n",
    "as these columns have more than 60% of its data missing."
   ]
  },
  {
   "cell_type": "code",
   "execution_count": 5,
   "id": "2e2d6f0a",
   "metadata": {},
   "outputs": [],
   "source": [
    "df.drop(['NEWJobHunt', 'NEWJobHuntResearch', 'NEWLearn'],\n",
    "       axis = 1,\n",
    "       inplace = True)"
   ]
  },
  {
   "cell_type": "markdown",
   "id": "5ce0c6cf",
   "metadata": {},
   "source": [
    "### Analyze Developers by Country\n",
    "\n",
    "We will investigate the distribution of employment and developer type from a geographical (`Country`) perspective.\n",
    "\n",
    "We know that `Employment` and `DevType` have missing data, so we will need to determine what kind of missing data we have for both of the variables in order to create a solution to address the NaN values."
   ]
  },
  {
   "cell_type": "code",
   "execution_count": 7,
   "id": "9cdff92b",
   "metadata": {},
   "outputs": [
    {
     "name": "stderr",
     "output_type": "stream",
     "text": [
      "/Users/thejjserg/anaconda3/lib/python3.11/site-packages/seaborn/axisgrid.py:118: UserWarning: The figure layout has changed to tight\n",
      "  self._figure.tight_layout(*args, **kwargs)\n",
      "/Users/thejjserg/anaconda3/lib/python3.11/site-packages/seaborn/axisgrid.py:118: UserWarning: The figure layout has changed to tight\n",
      "  self._figure.tight_layout(*args, **kwargs)\n"
     ]
    },
    {
     "data": {
      "image/png": "[encoded data removed]",
      "text/plain": [
       "<Figure size 1200x600 with 1 Axes>"
      ]
     },
     "metadata": {},
     "output_type": "display_data"
    },
    {
     "data": {
      "image/png": "[encoded data removed]",
      "text/plain": [
       "<Figure size 1200x600 with 1 Axes>"
      ]
     },
     "metadata": {},
     "output_type": "display_data"
    }
   ],
   "source": [
    "# Import the following libraries\n",
    "import seaborn as sns\n",
    "import matplotlib.pyplot as plt\n",
    "\n",
    "df[['RespondentID', 'Country']].groupby('Country').count()\n",
    "\n",
    "# Find the missing data\n",
    "missing_data = df[['Employment','DevType']].isnull().groupby(df['Country']).sum().reset_index()\n",
    "\n",
    "A = sns.catplot(data = missing_data,\n",
    "               kind = 'bar',\n",
    "               x = 'Country',\n",
    "               y = 'Employment',\n",
    "               height = 6, aspect = 2)\n",
    "B = sns.catplot(data = missing_data,\n",
    "               kind = 'bar',\n",
    "               x = 'Country',\n",
    "               y = 'DevType',\n",
    "               height = 6, aspect = 2)\n"
   ]
  },
  {
   "cell_type": "markdown",
   "id": "4756f2d7",
   "metadata": {},
   "source": [
    "The data doesn't appear to be missing for any specific country significantly more than any other. We understand that the missing data appears to scale with the relative size of each country. Note that the United States and Germany have more developers (on average) than the other countries, and this explains why they have more missing data points. Hence, this data appears to scale with the relative size of each country.\n",
    "\n",
    "Therefore, we determine that the missing data for these two columns can be categorized as `MCAR`. `MCAR` or `Missing Completely at Random` means that, for any reason, data is just missing. Each variable for every observation is equally likely to be missing. \n",
    "\n",
    "Since we have determined the missing data to be categorized as `MCAR`, we can safely delete the rows that have missing data in these columns. We will use **Pairwise Deletion** to only delete the rows that have missing data for *either* `Employment` or `DevType`."
   ]
  }
 ],
 "metadata": {
  "kernelspec": {
   "display_name": "Python 3 (ipykernel)",
   "language": "python",
   "name": "python3"
  },
  "language_info": {
   "codemirror_mode": {
    "name": "ipython",
    "version": 3
   },
   "file_extension": ".py",
   "mimetype": "text/x-python",
   "name": "python",
   "nbconvert_exporter": "python",
   "pygments_lexer": "ipython3",
   "version": "3.11.5"
  }
 },
 "nbformat": 4,
 "nbformat_minor": 5
}
