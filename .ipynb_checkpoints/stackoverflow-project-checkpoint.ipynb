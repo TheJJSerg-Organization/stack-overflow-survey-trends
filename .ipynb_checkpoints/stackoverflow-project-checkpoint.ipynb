{
 "cells": [
  {
   "cell_type": "markdown",
   "id": "295d62e1",
   "metadata": {},
   "source": [
    "# Stack Overflow Survey Trends\n",
    "\n",
    "**Understanding developer trends in Stack Overflow survey data**\n",
    "\n",
    "This is an Off-Platform Project provided by Codecademy's Data Science: Analyst career track in the *Handling Missing Data* course, inside of the *Data Wrangling, Cleaning, and Tidying* Unit.\n",
    "\n",
    "## Project Overview\n",
    "\n",
    "You work for a staffing agency that specializes in finding qualified candidates for development roles. One of your latest clients is growing rapidly and wants to understand what kinds of developers they can hire, and to understand general trends of the technology market. Your organization has access to this [Stack Overflow dataset](https://static-assets.codecademy.com/Courses/handling-missing-data/stackoverflow-project/developer_dataset.csv.zip?_gl=1*lbwq7o*_ga*NDE0MTMwODY3OC4xNjkxNjI5Mzc4*_ga_3LRZM6TM9L*MTcwODM4ODY5My4yMTYuMS4xNzA4Mzg5MjM1LjUzLjAuMA..), which consists of survey responses by developers all over the world for the last few years.\n",
    "\n",
    "Your project is to put together several statistical analyses about the community to educate your client about the potential hiring market for their company.\n",
    "\n",
    "## Project Steps\n",
    "\n",
    "### Explore Data\n",
    "\n",
    "You decide to start by performing some **Exploratory Data Analysis (EDA)**. This will provide you with a high-level understanding of the data fields, as well as help you identify which columns have missing data. In this case, you load the dataset into a `pandas` DataFrame and call it `df`. Take a moment to explore which columns you have in the data."
   ]
  },
  {
   "cell_type": "code",
   "execution_count": 4,
   "id": "7ba84c62",
   "metadata": {},
   "outputs": [
    {
     "name": "stdout",
     "output_type": "stream",
     "text": [
      "Index(['RespondentID', 'Year', 'Country', 'Employment', 'UndergradMajor',\n",
      "       'DevType', 'LanguageWorkedWith', 'LanguageDesireNextYear',\n",
      "       'DatabaseWorkedWith', 'DatabaseDesireNextYear', 'PlatformWorkedWith',\n",
      "       'PlatformDesireNextYear', 'Hobbyist', 'OrgSize', 'YearsCodePro',\n",
      "       'JobSeek', 'ConvertedComp', 'WorkWeekHrs', 'NEWJobHunt',\n",
      "       'NEWJobHuntResearch', 'NEWLearn'],\n",
      "      dtype='object')\n"
     ]
    },
    {
     "name": "stderr",
     "output_type": "stream",
     "text": [
      "/var/folders/dz/csjpb9qj4dqf_c5tnq_cjz8c0000gn/T/ipykernel_68258/787547253.py:4: DtypeWarning: Columns (18,19,20) have mixed types. Specify dtype option on import or set low_memory=False.\n",
      "  df = pd.read_csv('developer_dataset.csv')\n"
     ]
    }
   ],
   "source": [
    "# Import the pandas library to read csv files\n",
    "import pandas as pd\n",
    "\n",
    "df = pd.read_csv('developer_dataset.csv')\n",
    "print(df.columns)"
   ]
  }
 ],
 "metadata": {
  "kernelspec": {
   "display_name": "Python 3 (ipykernel)",
   "language": "python",
   "name": "python3"
  },
  "language_info": {
   "codemirror_mode": {
    "name": "ipython",
    "version": 3
   },
   "file_extension": ".py",
   "mimetype": "text/x-python",
   "name": "python",
   "nbconvert_exporter": "python",
   "pygments_lexer": "ipython3",
   "version": "3.11.5"
  }
 },
 "nbformat": 4,
 "nbformat_minor": 5
}
